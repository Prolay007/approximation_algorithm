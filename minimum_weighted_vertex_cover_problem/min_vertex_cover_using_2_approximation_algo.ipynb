{
 "cells": [
  {
   "cell_type": "code",
   "execution_count": null,
   "id": "a4a3cbb6-a454-4720-93f0-917cdd1ae246",
   "metadata": {},
   "outputs": [],
   "source": [
    "# Function to find an approximate minimum vertex cover\n",
    "def approximate_vertex_cover(graph):\n",
    "    # Set to store the vertex cover\n",
    "    vertex_cover = set()\n",
    "    \n",
    "    # Copy the graph edges to process\n",
    "    edges = set()\n",
    "    for u in graph:\n",
    "        for v in graph[u]:\n",
    "            edges.add((u, v))\n",
    "    \n",
    "    # While there are still edges in the graph\n",
    "    while edges:\n",
    "        # Pick any edge (u, v)\n",
    "        u, v = edges.pop()\n",
    "\n",
    "        # Add both vertices u and v to the vertex cover\n",
    "        vertex_cover.add(u)\n",
    "        vertex_cover.add(v)\n",
    "        \n",
    "        # Remove all edges incident to u and v\n",
    "        edges = {(x, y) for (x, y) in edges if x != u and x != v and y != u and y != v}\n",
    "    \n",
    "    return vertex_cover\n",
    "\n",
    "\n",
    "# Example usage\n",
    "if __name__ == \"__main__\":\n",
    "    # Example graph as an adjacency list\n",
    "    graph = {\n",
    "        0: [1, 2],\n",
    "        1: [0, 2],\n",
    "        2: [0, 1, 3],\n",
    "        3: [2, 4],\n",
    "        4: [3]\n",
    "    }\n",
    "    \n",
    "    # Get the approximate vertex cover\n",
    "    vertex_cover = approximate_vertex_cover(graph)\n",
    "    \n",
    "    print(\"Approximate Vertex Cover:\", vertex_cover)\n"
   ]
  }
 ],
 "metadata": {
  "kernelspec": {
   "display_name": "torch_2.1.0",
   "language": "python",
   "name": "torch_2.1.0"
  },
  "language_info": {
   "codemirror_mode": {
    "name": "ipython",
    "version": 3
   },
   "file_extension": ".py",
   "mimetype": "text/x-python",
   "name": "python",
   "nbconvert_exporter": "python",
   "pygments_lexer": "ipython3",
   "version": "3.10.14"
  }
 },
 "nbformat": 4,
 "nbformat_minor": 5
}
