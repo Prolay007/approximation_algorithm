{
 "cells": [
  {
   "cell_type": "code",
   "execution_count": null,
   "id": "2c9b6329-a746-4a1f-a5f4-38544c85eb5e",
   "metadata": {},
   "outputs": [],
   "source": [
    "import math\n",
    "\n",
    "# Function to calculate the Euclidean distance between two cities\n",
    "def distance(city1, city2):\n",
    "    return math.sqrt((city1[0] - city2[0])**2 + (city1[1] - city2[1])**2)\n",
    "\n",
    "# Function to find the nearest city that hasn't been visited\n",
    "def nearest_neighbor(current_city, cities, visited):\n",
    "    nearest_city = None\n",
    "    min_dist = float('inf')\n",
    "    \n",
    "    for i, city in enumerate(cities):\n",
    "        if not visited[i]:  # Check if the city is not visited\n",
    "            dist = distance(current_city, city)\n",
    "            if dist < min_dist:\n",
    "                min_dist = dist\n",
    "                nearest_city = i\n",
    "    return nearest_city, min_dist\n",
    "\n",
    "# TSP Nearest Neighbor Approximation Algorithm\n",
    "def tsp_nearest_neighbor(cities):\n",
    "    n = len(cities)\n",
    "    visited = [False] * n\n",
    "    tour = []\n",
    "    total_distance = 0\n",
    "    \n",
    "    # Start from the first city\n",
    "    current_city = 0\n",
    "    visited[current_city] = True\n",
    "    tour.append(current_city)\n",
    "    \n",
    "    for _ in range(n - 1):\n",
    "        next_city, dist = nearest_neighbor(cities[current_city], cities, visited)\n",
    "        visited[next_city] = True\n",
    "        tour.append(next_city)\n",
    "        total_distance += dist\n",
    "        current_city = next_city\n",
    "    \n",
    "    # Return to the starting city to complete the cycle\n",
    "    total_distance += distance(cities[current_city], cities[tour[0]])\n",
    "    tour.append(tour[0])  # Completing the cycle by returning to the starting city\n",
    "    \n",
    "    return tour, total_distance\n",
    "\n",
    "# Example usage\n",
    "if __name__ == \"__main__\":\n",
    "    # List of cities (x, y) coordinates\n",
    "    cities = [\n",
    "        (0, 0), (2, 3), (5, 4), (6, 1), (1, 2)\n",
    "    ]\n",
    "    \n",
    "    tour, total_distance = tsp_nearest_neighbor(cities)\n",
    "    \n",
    "    print(\"Tour:\", tour)\n",
    "    print(\"Total Distance:\", total_distance)\n"
   ]
  }
 ],
 "metadata": {
  "kernelspec": {
   "display_name": "torch_2.1.0",
   "language": "python",
   "name": "torch_2.1.0"
  },
  "language_info": {
   "codemirror_mode": {
    "name": "ipython",
    "version": 3
   },
   "file_extension": ".py",
   "mimetype": "text/x-python",
   "name": "python",
   "nbconvert_exporter": "python",
   "pygments_lexer": "ipython3",
   "version": "3.10.14"
  }
 },
 "nbformat": 4,
 "nbformat_minor": 5
}
